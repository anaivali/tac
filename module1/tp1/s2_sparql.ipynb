{
 "cells": [
  {
   "cell_type": "markdown",
   "metadata": {},
   "source": [
    "# Bases de connaissance : interroger Wikidata à l'aide de requêtes SPARQL"
   ]
  },
  {
   "cell_type": "markdown",
   "metadata": {},
   "source": [
    "## Imports"
   ]
  },
  {
   "cell_type": "code",
   "execution_count": 3,
   "metadata": {},
   "outputs": [],
   "source": [
    "from datetime import datetime as dt\n",
    "from SPARQLWrapper import SPARQLWrapper, JSON"
   ]
  },
  {
   "cell_type": "markdown",
   "metadata": {},
   "source": [
    "## Obtenir la liste des politiciens belges"
   ]
  },
  {
   "cell_type": "code",
   "execution_count": 4,
   "metadata": {},
   "outputs": [
    {
     "name": "stdout",
     "output_type": "stream",
     "text": [
      "\n",
      "57643 Belgian articles written in french\n",
      "\n",
      "[{'article': {'type': 'uri', 'value': 'http://www.wikidata.org/entity/Q100383360'}, 'articleLabel': {'type': 'literal', 'value': 'Q100383360'}}, {'article': {'type': 'uri', 'value': 'http://www.wikidata.org/entity/Q100461308'}, 'articleLabel': {'type': 'literal', 'value': 'Q100461308'}}, {'article': {'type': 'uri', 'value': 'http://www.wikidata.org/entity/Q100754214'}, 'articleLabel': {'type': 'literal', 'value': 'Q100754214'}}, {'article': {'type': 'uri', 'value': 'http://www.wikidata.org/entity/Q100918470'}, 'articleLabel': {'type': 'literal', 'value': 'Q100918470'}}, {'article': {'type': 'uri', 'value': 'http://www.wikidata.org/entity/Q102078704'}, 'articleLabel': {'type': 'literal', 'value': 'Q102078704'}}, {'article': {'type': 'uri', 'value': 'http://www.wikidata.org/entity/Q102302711'}, 'articleLabel': {'type': 'literal', 'value': 'Q102302711'}}, {'article': {'type': 'uri', 'value': 'http://www.wikidata.org/entity/Q102313808'}, 'articleLabel': {'type': 'literal', 'value': 'Q102313808'}}, {'article': {'type': 'uri', 'value': 'http://www.wikidata.org/entity/Q102343775'}, 'articleLabel': {'type': 'literal', 'value': 'Q102343775'}}, {'article': {'type': 'uri', 'value': 'http://www.wikidata.org/entity/Q102393451'}, 'articleLabel': {'type': 'literal', 'value': 'Q102393451'}}, {'article': {'type': 'uri', 'value': 'http://www.wikidata.org/entity/Q102399714'}, 'articleLabel': {'type': 'literal', 'value': 'Q102399714'}}]\n"
     ]
    }
   ],
   "source": [
    "# Retrieve results from SPARQL\n",
    "endpoint = \"https://query.wikidata.org/bigdata/namespace/wdq/sparql\"\n",
    "sparql = SPARQLWrapper(endpoint)\n",
    "\n",
    "# P27 = country of citizenship \n",
    "# Q31 = Belgium\n",
    "\n",
    "statement = \"\"\"\n",
    "SELECT DISTINCT ?article ?articleLabel WHERE {\n",
    "    SERVICE wikibase:label { bd:serviceParam wikibase:language \"fr\" . }\n",
    "{\n",
    "    SELECT DISTINCT ?article WHERE {\n",
    " ?article wdt:P27 wd:Q31.\n",
    "\n",
    "}\n",
    "   }\n",
    "    \n",
    "}\n",
    "ORDER BY ?articleLabel\n",
    "\"\"\"\n",
    "\n",
    "sparql.setQuery(statement)\n",
    "sparql.setReturnFormat(JSON)\n",
    "results = sparql.query().convert()\n",
    "\n",
    "rows = results['results']['bindings']\n",
    "print(f\"\\n{len(rows)} Belgian articles written in french\\n\")\n",
    "print(rows[:10])"
   ]
  }
 ],
 "metadata": {
  "kernelspec": {
   "display_name": "Python 3.10.7 ('tac_venv': venv)",
   "language": "python",
   "name": "python3"
  },
  "language_info": {
   "codemirror_mode": {
    "name": "ipython",
    "version": 3
   },
   "file_extension": ".py",
   "mimetype": "text/x-python",
   "name": "python",
   "nbconvert_exporter": "python",
   "pygments_lexer": "ipython3",
   "version": "3.10.7"
  },
  "vscode": {
   "interpreter": {
    "hash": "f245209d64e9435c448327610741208c4b21feecdcb79999f85e9af4642fbd2b"
   }
  }
 },
 "nbformat": 4,
 "nbformat_minor": 4
}
