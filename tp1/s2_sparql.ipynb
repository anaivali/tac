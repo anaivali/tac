{
 "cells": [
  {
   "cell_type": "markdown",
   "metadata": {},
   "source": [
    "# Bases de connaissance : interroger Wikidata à l'aide de requêtes SPARQL"
   ]
  },
  {
   "cell_type": "markdown",
   "metadata": {},
   "source": [
    "## Imports"
   ]
  },
  {
   "cell_type": "code",
   "execution_count": 1,
   "metadata": {},
   "outputs": [],
   "source": [
    "from datetime import datetime as dt\n",
    "from SPARQLWrapper import SPARQLWrapper, JSON"
   ]
  },
  {
   "cell_type": "markdown",
   "metadata": {},
   "source": [
    "## Obtenir la liste des politiciens belges"
   ]
  },
  {
   "cell_type": "code",
   "execution_count": 2,
   "metadata": {},
   "outputs": [
    {
     "name": "stdout",
     "output_type": "stream",
     "text": [
      "\n",
      "1751 Belgian articles written in french\n",
      "\n",
      "[{'item': {'type': 'uri', 'value': 'http://www.wikidata.org/entity/Q123080'}, 'itemLabel': {'type': 'literal', 'value': 'Q123080'}}, {'item': {'type': 'uri', 'value': 'http://www.wikidata.org/entity/Q170509'}, 'itemLabel': {'type': 'literal', 'value': 'Q170509'}}, {'item': {'type': 'uri', 'value': 'http://www.wikidata.org/entity/Q186221'}, 'itemLabel': {'type': 'literal', 'value': 'Q186221'}}, {'item': {'type': 'uri', 'value': 'http://www.wikidata.org/entity/Q189544'}, 'itemLabel': {'type': 'literal', 'value': 'Q189544'}}, {'item': {'type': 'uri', 'value': 'http://www.wikidata.org/entity/Q230068'}, 'itemLabel': {'type': 'literal', 'value': 'Q230068'}}, {'item': {'type': 'uri', 'value': 'http://www.wikidata.org/entity/Q286566'}, 'itemLabel': {'type': 'literal', 'value': 'Q286566'}}, {'item': {'type': 'uri', 'value': 'http://www.wikidata.org/entity/Q314972'}, 'itemLabel': {'type': 'literal', 'value': 'Q314972'}}, {'item': {'type': 'uri', 'value': 'http://www.wikidata.org/entity/Q350754'}, 'itemLabel': {'type': 'literal', 'value': 'Q350754'}}, {'item': {'type': 'uri', 'value': 'http://www.wikidata.org/entity/Q355112'}, 'itemLabel': {'type': 'literal', 'value': 'Q355112'}}, {'item': {'type': 'uri', 'value': 'http://www.wikidata.org/entity/Q356537'}, 'itemLabel': {'type': 'literal', 'value': 'Q356537'}}]\n"
     ]
    }
   ],
   "source": [
    "# Retrieve results from SPARQL\n",
    "endpoint = \"https://query.wikidata.org/bigdata/namespace/wdq/sparql\"\n",
    "sparql = SPARQLWrapper(endpoint)\n",
    "\n",
    "# P27 = country of citizenship \n",
    "# Q31 = Belgium\n",
    "\n",
    "statement = \"\"\"\n",
    "SELECT DISTINCT ?item ?itemLabel WHERE {\n",
    "  SERVICE wikibase:label { bd:serviceParam wikibase:language \"[AUTO_LANGUAGE]\". }\n",
    "  {\n",
    "    SELECT DISTINCT ?item WHERE {\n",
    "      ?item p:P106 ?statement0.\n",
    "      ?statement0 (ps:P106/(wdt:P279*)) wd:Q1930187.\n",
    "      ?item p:P6886 ?statement1.\n",
    "      ?statement1 (ps:P6886/(wdt:P279*)) wd:Q150.\n",
    "    }\n",
    "  }\n",
    "}\n",
    "\"\"\"\n",
    "\n",
    "sparql.setQuery(statement)\n",
    "sparql.setReturnFormat(JSON)\n",
    "results = sparql.query().convert()\n",
    "\n",
    "rows = results['results']['bindings']\n",
    "print(f\"\\n{len(rows)} Belgian articles written in french\\n\")\n",
    "print(rows[:10])"
   ]
  }
 ],
 "metadata": {
  "kernelspec": {
   "display_name": "Python 3.10.7 64-bit",
   "language": "python",
   "name": "python3"
  },
  "language_info": {
   "codemirror_mode": {
    "name": "ipython",
    "version": 3
   },
   "file_extension": ".py",
   "mimetype": "text/x-python",
   "name": "python",
   "nbconvert_exporter": "python",
   "pygments_lexer": "ipython3",
   "version": "3.10.7"
  },
  "vscode": {
   "interpreter": {
    "hash": "aee8b7b246df8f9039afb4144a1f6fd8d2ca17a180786b69acc140d282b71a49"
   }
  }
 },
 "nbformat": 4,
 "nbformat_minor": 4
}
