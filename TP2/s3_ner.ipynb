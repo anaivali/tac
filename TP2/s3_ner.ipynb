{
 "cells": [
  {
   "cell_type": "markdown",
   "metadata": {},
   "source": [
    "# Reconnaissance d'entités nommées avec SpaCy"
   ]
  },
  {
   "cell_type": "markdown",
   "metadata": {},
   "source": [
    "La documentation est accessible ici: https://spacy.io/api"
   ]
  },
  {
   "cell_type": "markdown",
   "metadata": {},
   "source": [
    "## Imports"
   ]
  },
  {
   "cell_type": "code",
   "execution_count": 1,
   "metadata": {},
   "outputs": [],
   "source": [
    "from collections import defaultdict\n",
    "import sys\n",
    "import spacy\n",
    "from spacy.lang.fr.examples import sentences"
   ]
  },
  {
   "cell_type": "code",
   "execution_count": 2,
   "metadata": {},
   "outputs": [],
   "source": [
    "nlp = spacy.load('fr_core_news_md')"
   ]
  },
  {
   "cell_type": "markdown",
   "metadata": {},
   "source": [
    "## Exemple sur un corpus de test fourni par SpaCy"
   ]
  },
  {
   "cell_type": "code",
   "execution_count": 3,
   "metadata": {},
   "outputs": [
    {
     "data": {
      "text/plain": [
       "['Apple cherche à acheter une start-up anglaise pour 1 milliard de dollars',\n",
       " \"Les voitures autonomes déplacent la responsabilité de l'assurance vers les constructeurs\",\n",
       " \"San Francisco envisage d'interdire les robots coursiers sur les trottoirs\",\n",
       " 'Londres est une grande ville du Royaume-Uni',\n",
       " 'L’Italie choisit ArcelorMittal pour reprendre la plus grande aciérie d’Europe',\n",
       " \"Apple lance HomePod parce qu'il se sent menacé par l'Echo d'Amazon\",\n",
       " \"La France ne devrait pas manquer d'électricité cet été, même en cas de canicule\",\n",
       " 'Nouvelles attaques de Trump contre le maire de Londres',\n",
       " 'Où es-tu ?',\n",
       " 'Qui est le président de la France ?',\n",
       " 'Où est la capitale des États-Unis ?',\n",
       " 'Quand est né Barack Obama ?']"
      ]
     },
     "execution_count": 3,
     "metadata": {},
     "output_type": "execute_result"
    }
   ],
   "source": [
    "# Imprimer le corpus de Spacy\n",
    "sentences"
   ]
  },
  {
   "cell_type": "code",
   "execution_count": 4,
   "metadata": {},
   "outputs": [
    {
     "data": {
      "text/plain": [
       "'Apple cherche à acheter une start-up anglaise pour 1 milliard de dollars'"
      ]
     },
     "execution_count": 4,
     "metadata": {},
     "output_type": "execute_result"
    }
   ],
   "source": [
    "# Isoler la première phrase\n",
    "sent = sentences[0]\n",
    "sent"
   ]
  },
  {
   "cell_type": "code",
   "execution_count": 5,
   "metadata": {},
   "outputs": [],
   "source": [
    "# Traiter la phrase avec Spacy\n",
    "doc = nlp(sent)"
   ]
  },
  {
   "cell_type": "code",
   "execution_count": 6,
   "metadata": {},
   "outputs": [
    {
     "data": {
      "text/plain": [
       "spacy.tokens.doc.Doc"
      ]
     },
     "execution_count": 6,
     "metadata": {},
     "output_type": "execute_result"
    }
   ],
   "source": [
    "type(doc)"
   ]
  },
  {
   "cell_type": "code",
   "execution_count": 7,
   "metadata": {},
   "outputs": [
    {
     "data": {
      "text/plain": [
       "'Apple cherche à acheter une start-up anglaise pour 1 milliard de dollars'"
      ]
     },
     "execution_count": 7,
     "metadata": {},
     "output_type": "execute_result"
    }
   ],
   "source": [
    "doc.text"
   ]
  },
  {
   "cell_type": "code",
   "execution_count": 8,
   "metadata": {},
   "outputs": [
    {
     "data": {
      "text/plain": [
       "{'text': 'Apple cherche à acheter une start-up anglaise pour 1 milliard de dollars',\n",
       " 'ents': [{'start': 0, 'end': 5, 'label': 'ORG'}],\n",
       " 'sents': [{'start': 0, 'end': 33},\n",
       "  {'start': 33, 'end': 34},\n",
       "  {'start': 34, 'end': 72}],\n",
       " 'tokens': [{'id': 0,\n",
       "   'start': 0,\n",
       "   'end': 5,\n",
       "   'tag': 'PROPN',\n",
       "   'pos': 'PROPN',\n",
       "   'morph': '',\n",
       "   'lemma': 'Apple',\n",
       "   'dep': 'nsubj',\n",
       "   'head': 1},\n",
       "  {'id': 1,\n",
       "   'start': 6,\n",
       "   'end': 13,\n",
       "   'tag': 'VERB',\n",
       "   'pos': 'VERB',\n",
       "   'morph': 'Mood=Ind|Number=Sing|Person=3|Tense=Pres|VerbForm=Fin',\n",
       "   'lemma': 'cherche',\n",
       "   'dep': 'ROOT',\n",
       "   'head': 1},\n",
       "  {'id': 2,\n",
       "   'start': 14,\n",
       "   'end': 15,\n",
       "   'tag': 'ADP',\n",
       "   'pos': 'ADP',\n",
       "   'morph': '',\n",
       "   'lemma': 'à',\n",
       "   'dep': 'mark',\n",
       "   'head': 3},\n",
       "  {'id': 3,\n",
       "   'start': 16,\n",
       "   'end': 23,\n",
       "   'tag': 'VERB',\n",
       "   'pos': 'VERB',\n",
       "   'morph': 'VerbForm=Inf',\n",
       "   'lemma': 'acheter',\n",
       "   'dep': 'xcomp',\n",
       "   'head': 1},\n",
       "  {'id': 4,\n",
       "   'start': 24,\n",
       "   'end': 27,\n",
       "   'tag': 'DET',\n",
       "   'pos': 'DET',\n",
       "   'morph': 'Definite=Ind|Gender=Fem|Number=Sing|PronType=Art',\n",
       "   'lemma': 'un',\n",
       "   'dep': 'det',\n",
       "   'head': 5},\n",
       "  {'id': 5,\n",
       "   'start': 28,\n",
       "   'end': 33,\n",
       "   'tag': 'NOUN',\n",
       "   'pos': 'NOUN',\n",
       "   'morph': 'Gender=Fem|Number=Sing',\n",
       "   'lemma': 'start',\n",
       "   'dep': 'obj',\n",
       "   'head': 3},\n",
       "  {'id': 6,\n",
       "   'start': 33,\n",
       "   'end': 34,\n",
       "   'tag': 'NOUN',\n",
       "   'pos': 'NOUN',\n",
       "   'morph': 'Gender=Masc|Number=Sing',\n",
       "   'lemma': '-',\n",
       "   'dep': 'ROOT',\n",
       "   'head': 6},\n",
       "  {'id': 7,\n",
       "   'start': 34,\n",
       "   'end': 36,\n",
       "   'tag': 'X',\n",
       "   'pos': 'X',\n",
       "   'morph': '',\n",
       "   'lemma': 'up',\n",
       "   'dep': 'ROOT',\n",
       "   'head': 7},\n",
       "  {'id': 8,\n",
       "   'start': 37,\n",
       "   'end': 45,\n",
       "   'tag': 'ADJ',\n",
       "   'pos': 'ADJ',\n",
       "   'morph': 'Gender=Fem|Number=Sing',\n",
       "   'lemma': 'anglais',\n",
       "   'dep': 'amod',\n",
       "   'head': 7},\n",
       "  {'id': 9,\n",
       "   'start': 46,\n",
       "   'end': 50,\n",
       "   'tag': 'ADP',\n",
       "   'pos': 'ADP',\n",
       "   'morph': '',\n",
       "   'lemma': 'pour',\n",
       "   'dep': 'case',\n",
       "   'head': 11},\n",
       "  {'id': 10,\n",
       "   'start': 51,\n",
       "   'end': 52,\n",
       "   'tag': 'NUM',\n",
       "   'pos': 'NUM',\n",
       "   'morph': 'NumType=Card',\n",
       "   'lemma': '1',\n",
       "   'dep': 'nummod',\n",
       "   'head': 11},\n",
       "  {'id': 11,\n",
       "   'start': 53,\n",
       "   'end': 61,\n",
       "   'tag': 'NOUN',\n",
       "   'pos': 'NOUN',\n",
       "   'morph': 'Gender=Masc|NumType=Card|Number=Sing',\n",
       "   'lemma': 'milliard',\n",
       "   'dep': 'nmod',\n",
       "   'head': 7},\n",
       "  {'id': 12,\n",
       "   'start': 62,\n",
       "   'end': 64,\n",
       "   'tag': 'ADP',\n",
       "   'pos': 'ADP',\n",
       "   'morph': '',\n",
       "   'lemma': 'de',\n",
       "   'dep': 'case',\n",
       "   'head': 13},\n",
       "  {'id': 13,\n",
       "   'start': 65,\n",
       "   'end': 72,\n",
       "   'tag': 'NOUN',\n",
       "   'pos': 'NOUN',\n",
       "   'morph': 'Gender=Masc|Number=Plur',\n",
       "   'lemma': 'dollar',\n",
       "   'dep': 'nmod',\n",
       "   'head': 11}]}"
      ]
     },
     "execution_count": 8,
     "metadata": {},
     "output_type": "execute_result"
    }
   ],
   "source": [
    "doc.to_json()"
   ]
  },
  {
   "cell_type": "code",
   "execution_count": 9,
   "metadata": {},
   "outputs": [
    {
     "name": "stdout",
     "output_type": "stream",
     "text": [
      "'Apple cherche à acheter une start-up anglaise pour 1 milliard de dollars' contient les entités suivantes : Apple (ORG)\n",
      "'Les voitures autonomes déplacent la responsabilité de l'assurance vers les constructeurs' ne contient aucune entité\n",
      "'San Francisco envisage d'interdire les robots coursiers sur les trottoirs' contient les entités suivantes : San Francisco (LOC)\n",
      "'Londres est une grande ville du Royaume-Uni' contient les entités suivantes : Londres (LOC), Royaume-Uni (LOC)\n",
      "'L’Italie choisit ArcelorMittal pour reprendre la plus grande aciérie d’Europe' contient les entités suivantes : L’Italie (LOC), ArcelorMittal (ORG), Europe (LOC)\n",
      "'Apple lance HomePod parce qu'il se sent menacé par l'Echo d'Amazon' contient les entités suivantes : Apple (ORG), HomePod (MISC), Echo (ORG), Amazon (ORG)\n",
      "'La France ne devrait pas manquer d'électricité cet été, même en cas de canicule' contient les entités suivantes : La France (LOC)\n",
      "'Nouvelles attaques de Trump contre le maire de Londres' contient les entités suivantes : Trump (PER), Londres (LOC)\n",
      "'Où es-tu ?' contient les entités suivantes : Où es-tu ? (MISC)\n",
      "'Qui est le président de la France ?' contient les entités suivantes : la France (LOC)\n",
      "'Où est la capitale des États-Unis ?' contient les entités suivantes : États-Unis (LOC)\n",
      "'Quand est né Barack Obama ?' contient les entités suivantes : Barack Obama (PER)\n"
     ]
    }
   ],
   "source": [
    "# Appliquer le test sur toutes les phrases\n",
    "for sent in sentences:\n",
    "    doc = nlp(sent)\n",
    "    entities = []\n",
    "    for ent in doc.ents:\n",
    "        entities.append(f\"{ent.text} ({ent.label_})\")\n",
    "    if entities:\n",
    "        print(f\"'{doc.text}' contient les entités suivantes : {', '.join(entities)}\")\n",
    "    else:\n",
    "        print(f\"'{doc.text}' ne contient aucune entité\")"
   ]
  },
  {
   "cell_type": "markdown",
   "metadata": {},
   "source": [
    "## Appliquer la reconnaissance d'entités nommées sur notre corpus"
   ]
  },
  {
   "cell_type": "code",
   "execution_count": 10,
   "metadata": {},
   "outputs": [],
   "source": [
    "# Charger le texte\n",
    "n=100000\n",
    "text = open(\"../data/tmp/1920.txt\", encoding='utf-8').read()[:n]"
   ]
  },
  {
   "cell_type": "code",
   "execution_count": 11,
   "metadata": {},
   "outputs": [
    {
     "name": "stdout",
     "output_type": "stream",
     "text": [
      "CPU times: user 5.86 s, sys: 178 ms, total: 6.03 s\n",
      "Wall time: 6.11 s\n"
     ]
    }
   ],
   "source": [
    "%%time\n",
    "# Traiter le texte\n",
    "\n",
    "doc = nlp(text)"
   ]
  },
  {
   "cell_type": "code",
   "execution_count": 12,
   "metadata": {},
   "outputs": [],
   "source": [
    "# Compter les entités\n",
    "people = defaultdict(int)\n",
    "for ent in doc.ents:\n",
    "    if ent.label_ == \"PER\" and len(ent.text) > 3:\n",
    "        people[ent.text] += 1"
   ]
  },
  {
   "cell_type": "code",
   "execution_count": 13,
   "metadata": {},
   "outputs": [],
   "source": [
    "# Compter les entités\n",
    "organisations = defaultdict(int)\n",
    "for ent in doc.ents:\n",
    "    if ent.label_ == \"ORG\" and len(ent.text) > 3:\n",
    "        organisations[ent.text] += 1"
   ]
  },
  {
   "cell_type": "code",
   "execution_count": 14,
   "metadata": {},
   "outputs": [],
   "source": [
    "# Compter les entités\n",
    "locations = defaultdict(int)\n",
    "for ent in doc.ents:\n",
    "    if ent.label_ == \"LOC\" and len(ent.text) > 3:\n",
    "        locations[ent.text] += 1"
   ]
  },
  {
   "cell_type": "code",
   "execution_count": 15,
   "metadata": {},
   "outputs": [
    {
     "name": "stdout",
     "output_type": "stream",
     "text": [
      "Caillaux apparait 7 fois dans le corpus\n",
      "Lion Noir apparait 3 fois dans le corpus\n",
      "Charles Benoist apparait 2 fois dans le corpus\n",
      "Mirabeau apparait 2 fois dans le corpus\n",
      "Humbert apparait 2 fois dans le corpus\n",
      "M. Deiwarde apparait 2 fois dans le corpus\n",
      "Lobet apparait 2 fois dans le corpus\n",
      "Jean apparait 2 fois dans le corpus\n",
      "aibi't apparait 1 fois dans le corpus\n",
      "risa fe doiuictle apparait 1 fois dans le corpus\n",
      "Charles I apparait 1 fois dans le corpus\n",
      "jqed table apparait 1 fois dans le corpus\n",
      "A1J>. G apparait 1 fois dans le corpus\n",
      "Giraud apparait 1 fois dans le corpus\n",
      "O. X. apparait 1 fois dans le corpus\n",
      "S j. J apparait 1 fois dans le corpus\n",
      "Umvs M apparait 1 fois dans le corpus\n",
      "L ïï-AJisla^. apparait 1 fois dans le corpus\n",
      "R. PETITFIL8 apparait 1 fois dans le corpus\n",
      "T6léphono Bruxolfea apparait 1 fois dans le corpus\n",
      "mmm cço apparait 1 fois dans le corpus\n",
      "Gands Do apparait 1 fois dans le corpus\n",
      "AiTest.- apparait 1 fois dans le corpus\n",
      "Kts t s. apparait 1 fois dans le corpus\n",
      "P.A.D. apparait 1 fois dans le corpus\n",
      "WHIW11 I apparait 1 fois dans le corpus\n",
      "Jil'Vl apparait 1 fois dans le corpus\n",
      "tilla lî ans apparait 1 fois dans le corpus\n",
      "pri t apparait 1 fois dans le corpus\n",
      "v. r.von apparait 1 fois dans le corpus\n",
      "Eohcaaes Rêfarailo.na apparait 1 fois dans le corpus\n",
      "v'WiX'Ter j! apparait 1 fois dans le corpus\n",
      "j.ps apparait 1 fois dans le corpus\n",
      "toutça dunnt apparait 1 fois dans le corpus\n",
      "Dubonnel apparait 1 fois dans le corpus\n",
      "oosoao S’uidi apparait 1 fois dans le corpus\n",
      "r t ï*inmià apparait 1 fois dans le corpus\n",
      "Coîtcl apparait 1 fois dans le corpus\n",
      "roi<16- sU'® apparait 1 fois dans le corpus\n",
      "^^ e3tcô apparait 1 fois dans le corpus\n",
      "airyea apparait 1 fois dans le corpus\n",
      "Andar- iscl apparait 1 fois dans le corpus\n",
      "r ï> P apparait 1 fois dans le corpus\n",
      "Ccfards apparait 1 fois dans le corpus\n",
      "i i. i apparait 1 fois dans le corpus\n",
      "Poîftina apparait 1 fois dans le corpus\n",
      "53iim Aaiaad apparait 1 fois dans le corpus\n",
      "O;- •nuilrOiî! apparait 1 fois dans le corpus\n",
      "t lOans apparait 1 fois dans le corpus\n",
      "L.»- apparait 1 fois dans le corpus\n"
     ]
    }
   ],
   "source": [
    "# Trier et imprimer\n",
    "\n",
    "sorted_people = sorted(people.items(), key=lambda kv: kv[1], reverse=True)\n",
    "\n",
    "for person, freq in sorted_people[:50]:\n",
    "    print(f\"{person} apparait {freq} fois dans le corpus\")\n",
    "\n"
   ]
  },
  {
   "cell_type": "code",
   "execution_count": 16,
   "metadata": {},
   "outputs": [
    {
     "name": "stdout",
     "output_type": "stream",
     "text": [
      "URINAIRES apparait 2 fois dans le corpus\n",
      "Chevrolet apparait 2 fois dans le corpus\n",
      "FIRME apparait 2 fois dans le corpus\n",
      "Steinbach apparait 2 fois dans le corpus\n",
      "Commanderie apparait 2 fois dans le corpus\n",
      "Conseil apparait 2 fois dans le corpus\n",
      "COMMERCIAIE apparait 1 fois dans le corpus\n",
      "Ajrecee Rossai apparait 1 fois dans le corpus\n",
      "Pharmacie apparait 1 fois dans le corpus\n",
      "D«blii».7Lî ç.(£:5’&>.y<^rîfe2& ii)î5 apparait 1 fois dans le corpus\n",
      "Irui apparait 1 fois dans le corpus\n",
      "Vrl Four von apparait 1 fois dans le corpus\n",
      "YAA£)î9li apparait 1 fois dans le corpus\n",
      "aiiTlaixes apparait 1 fois dans le corpus\n",
      "Palîle apparait 1 fois dans le corpus\n",
      "VIDEE Fins apparait 1 fois dans le corpus\n",
      "hianonae 50 fr.. ejitroe nrls apparait 1 fois dans le corpus\n",
      "APPUCATIONS apparait 1 fois dans le corpus\n",
      "Fauta Die apparait 1 fois dans le corpus\n",
      "JVAriçnt apparait 1 fois dans le corpus\n",
      ".ta j ! apparait 1 fois dans le corpus\n",
      "J U LIA apparait 1 fois dans le corpus\n",
      "IIYTE apparait 1 fois dans le corpus\n",
      "Marché-| apparait 1 fois dans le corpus\n",
      "jmi Suis peu- apparait 1 fois dans le corpus\n",
      "Ford apparait 1 fois dans le corpus\n",
      "American apparait 1 fois dans le corpus\n",
      "Claptéro apparait 1 fois dans le corpus\n",
      "IA IIP apparait 1 fois dans le corpus\n",
      "oarburntonrs roues mét-nll.. apparait 1 fois dans le corpus\n",
      "fe UcUes apparait 1 fois dans le corpus\n",
      "obauaaée tlTxofl-»*. apparait 1 fois dans le corpus\n",
      "Autos » apparait 1 fois dans le corpus\n",
      "UrtVsiLiUix apparait 1 fois dans le corpus\n",
      "ÂTiTb apparait 1 fois dans le corpus\n",
      "Hoontipljj apparait 1 fois dans le corpus\n",
      "iioni apparait 1 fois dans le corpus\n",
      "TS ter.s co apparait 1 fois dans le corpus\n",
      "| fînôo apparait 1 fois dans le corpus\n",
      "ER J apparait 1 fois dans le corpus\n",
      "B»strùnf»n apparait 1 fois dans le corpus\n",
      "fe ven apparait 1 fois dans le corpus\n",
      "RUE T’K INT apparait 1 fois dans le corpus\n",
      "fe t. off apparait 1 fois dans le corpus\n",
      "ELEVATEURS apparait 1 fois dans le corpus\n",
      "TOFSOO apparait 1 fois dans le corpus\n",
      "mr.roho apparait 1 fois dans le corpus\n",
      "ooeonoe apparait 1 fois dans le corpus\n",
      "ELB8TftU5U2î apparait 1 fois dans le corpus\n",
      "BSJIUX apparait 1 fois dans le corpus\n"
     ]
    }
   ],
   "source": [
    "sorted_organisations = sorted(organisations.items(), key=lambda kv: kv[1], reverse=True)\n",
    "\n",
    "for organisation, freq in sorted_organisations[:50]:\n",
    "        print(f\"{organisation} apparait {freq} fois dans le corpus\")"
   ]
  },
  {
   "cell_type": "code",
   "execution_count": 17,
   "metadata": {},
   "outputs": [
    {
     "name": "stdout",
     "output_type": "stream",
     "text": [
      "Belgique apparait 13 fois dans le corpus\n",
      "Bruxelles apparait 12 fois dans le corpus\n",
      "état apparait 10 fois dans le corpus\n",
      "Anvers apparait 5 fois dans le corpus\n",
      "France apparait 5 fois dans le corpus\n",
      "Paris apparait 5 fois dans le corpus\n",
      "Allemagne apparait 4 fois dans le corpus\n",
      "Bouteilles apparait 3 fois dans le corpus\n",
      "Nord apparait 3 fois dans le corpus\n",
      "Cologne apparait 3 fois dans le corpus\n",
      "Rhin apparait 3 fois dans le corpus\n",
      "Etat apparait 3 fois dans le corpus\n",
      "La Haye apparait 3 fois dans le corpus\n",
      "Flandre apparait 2 fois dans le corpus\n",
      "Brux apparait 2 fois dans le corpus\n",
      "A VEND apparait 2 fois dans le corpus\n",
      "Stockholm apparait 2 fois dans le corpus\n",
      "Français apparait 2 fois dans le corpus\n",
      "Liège apparait 2 fois dans le corpus\n",
      "la France apparait 2 fois dans le corpus\n",
      "Belges apparait 2 fois dans le corpus\n",
      "Londres apparait 2 fois dans le corpus\n",
      "Angleterre apparait 2 fois dans le corpus\n",
      "Rome apparait 2 fois dans le corpus\n",
      "Russie apparait 2 fois dans le corpus\n",
      "Suisse apparait 2 fois dans le corpus\n",
      "Etats-Généraux apparait 2 fois dans le corpus\n",
      "Ü795 apparait 1 fois dans le corpus\n",
      "FtaS.fort apparait 1 fois dans le corpus\n",
      "OCCfiS. A apparait 1 fois dans le corpus\n",
      "tîi54 A VEND apparait 1 fois dans le corpus\n",
      "L-'/,V\"î apparait 1 fois dans le corpus\n",
      "LS:S CAPÜH1.E3 apparait 1 fois dans le corpus\n",
      "BLAScnas apparait 1 fois dans le corpus\n",
      "eajvre 175 apparait 1 fois dans le corpus\n",
      "Av«n- apparait 1 fois dans le corpus\n",
      "S| tj S!MUre>'«i«9 apparait 1 fois dans le corpus\n",
      "^4 .-.■.üfiiiïu-'. apparait 1 fois dans le corpus\n",
      "E RSX1ÏDE apparait 1 fois dans le corpus\n",
      "Ibiito apparait 1 fois dans le corpus\n",
      "Jura apparait 1 fois dans le corpus\n",
      "Arles apparait 1 fois dans le corpus\n",
      "DlvUsti;- apparait 1 fois dans le corpus\n",
      "aUnasslo apparait 1 fois dans le corpus\n",
      "Uruxel.-MUll apparait 1 fois dans le corpus\n",
      "ÔOUÜT3 apparait 1 fois dans le corpus\n",
      "W Ci0 apparait 1 fois dans le corpus\n",
      "Dê!«E apparait 1 fois dans le corpus\n",
      "cort apparait 1 fois dans le corpus\n",
      "~L tf apparait 1 fois dans le corpus\n"
     ]
    }
   ],
   "source": [
    "sorted_locations = sorted(locations.items(), key=lambda kv: kv[1], reverse=True)\n",
    "\n",
    "for location, freq in sorted_locations[:50]:\n",
    "         print(f\"{location} apparait {freq} fois dans le corpus\")"
   ]
  },
  {
   "cell_type": "markdown",
   "metadata": {},
   "source": [
    "Exercice: essayez de lister les lieux (LOC) et les organisations (ORG) les plus mentionnées dans le corpus"
   ]
  },
  {
   "cell_type": "code",
   "execution_count": null,
   "metadata": {},
   "outputs": [],
   "source": []
  }
 ],
 "metadata": {
  "kernelspec": {
   "display_name": "Python 3.10.7 ('tac_venv': venv)",
   "language": "python",
   "name": "python3"
  },
  "language_info": {
   "codemirror_mode": {
    "name": "ipython",
    "version": 3
   },
   "file_extension": ".py",
   "mimetype": "text/x-python",
   "name": "python",
   "nbconvert_exporter": "python",
   "pygments_lexer": "ipython3",
   "version": "3.10.7"
  },
  "vscode": {
   "interpreter": {
    "hash": "f245209d64e9435c448327610741208c4b21feecdcb79999f85e9af4642fbd2b"
   }
  }
 },
 "nbformat": 4,
 "nbformat_minor": 4
}
