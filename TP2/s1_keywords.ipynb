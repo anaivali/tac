{
 "cells": [
  {
   "cell_type": "markdown",
   "metadata": {},
   "source": [
    "# Extraction de Keywords"
   ]
  },
  {
   "cell_type": "markdown",
   "metadata": {},
   "source": [
    "## Imports"
   ]
  },
  {
   "cell_type": "code",
   "execution_count": 15,
   "metadata": {},
   "outputs": [],
   "source": [
    "import os\n",
    "import yake"
   ]
  },
  {
   "cell_type": "markdown",
   "metadata": {},
   "source": [
    "## Extraire les mots clés d'un document avec Yake"
   ]
  },
  {
   "cell_type": "markdown",
   "metadata": {},
   "source": [
    "https://github.com/LIAAD/yake"
   ]
  },
  {
   "cell_type": "code",
   "execution_count": 16,
   "metadata": {},
   "outputs": [
    {
     "data": {
      "text/plain": [
       "<yake.yake.KeywordExtractor at 0x131807040>"
      ]
     },
     "execution_count": 16,
     "metadata": {},
     "output_type": "execute_result"
    }
   ],
   "source": [
    "# Instantier l'extracteur de mots clés\n",
    "kw_extractor = yake.KeywordExtractor(lan=\"fr\", top=50)\n",
    "kw_extractor"
   ]
  },
  {
   "cell_type": "code",
   "execution_count": 17,
   "metadata": {},
   "outputs": [],
   "source": [
    "# Lister les Fichiers\n",
    "data_path = \"../data/tmp/\"\n",
    "files = os.listdir(data_path)"
   ]
  },
  {
   "cell_type": "code",
   "execution_count": 18,
   "metadata": {},
   "outputs": [
    {
     "data": {
      "text/plain": [
       "3"
      ]
     },
     "execution_count": 18,
     "metadata": {},
     "output_type": "execute_result"
    }
   ],
   "source": [
    "# Imprimer le nombre de fichiers identifiés\n",
    "len(files)"
   ]
  },
  {
   "cell_type": "code",
   "execution_count": 19,
   "metadata": {},
   "outputs": [
    {
     "data": {
      "text/plain": [
       "['1920_clean.txt', '1920.png', '1920.txt']"
      ]
     },
     "execution_count": 19,
     "metadata": {},
     "output_type": "execute_result"
    }
   ],
   "source": [
    "# Les dix premiers fichiers\n",
    "files[:3]"
   ]
  },
  {
   "cell_type": "code",
   "execution_count": 32,
   "metadata": {},
   "outputs": [
    {
     "data": {
      "text/plain": [
       "'1920.txt'"
      ]
     },
     "execution_count": 32,
     "metadata": {},
     "output_type": "execute_result"
    }
   ],
   "source": [
    "# Choisir un fichier\n",
    "this_file = files[2]\n",
    "this_file"
   ]
  },
  {
   "cell_type": "code",
   "execution_count": 33,
   "metadata": {},
   "outputs": [
    {
     "data": {
      "text/plain": [
       "'FOIRE COMMERCIALE Pero às SSrux&ilas Staad 32© Mesdames, passez au Stand du BLEU DESIREE DELEGUE POUR l.A VENTE EN OEUSIOUE: DUFOUR, 1(50, boulev. AN6PAQH, BRUXELLES Un sachet de BLEU OUTREMER DESTRÉE FOIRE COMMERCIAIE vous sera offert GRACIEUSEMENT. Pare de Bruxelles Stand 329 Glaces Glaças cliln\\'s, myontéce, : d» tontes iliroeitflon» sont aibi\\'t r.<ix t-.rCIfur. nr|x. I<risa fe doiuictle, R\\'adre». nar écrit ! LeAu. 123. rue Charles I>s -Vift.r, üJ. il Buselk\\'. Ü795 0S6AS. &c.lou sae-araLo état **«/. bur. amér.. ÿr. jqed table et boccv à v. 47. av. A1J>. G:va»d. . 2 f. 1 N* COÎ\\'FtaS.fort Lifté, ét U. fe YOKft d’ixto. fi. a». Aie: Giraud, Sah., s. 2 f. lôét À\"~VEÎiORH 2 chsajwoa à toucher. t a«*.J, ff.î ot 1 V>’.6 point r.oj\\'or 65c tr. 65 rus ilftlibrau 99» OCCfiS. A vend. saf. a rv. eb. A'"
      ]
     },
     "execution_count": 33,
     "metadata": {},
     "output_type": "execute_result"
    }
   ],
   "source": [
    "# Récupérer le texte du fichier\n",
    "text = open(os.path.join(data_path, this_file), 'r').read()\n",
    "text[:800]"
   ]
  },
  {
   "cell_type": "code",
   "execution_count": 34,
   "metadata": {},
   "outputs": [
    {
     "data": {
      "text/plain": [
       "[('rue', 4.370512698473172e-06),\n",
       " ('Agence Rossel', 7.157375005796023e-06),\n",
       " ('BRUXELLES', 9.81224417889845e-06),\n",
       " ('VENDRE belle maison', 1.0224657726266501e-05),\n",
       " ('rue Van', 1.0584886840655507e-05),\n",
       " ('Agence Rossel Bruxelles', 1.3669540124033265e-05),\n",
       " ('DEM', 1.7538382896567145e-05),\n",
       " ('Bruxelles Téléphone Bruxelles', 1.9504344923241568e-05),\n",
       " ('MAISON', 1.9997624259001102e-05),\n",
       " ('belle maison', 2.1720495308516538e-05),\n",
       " ('BONNE MAISON rue', 2.2753330636171413e-05),\n",
       " ('rue Neuve', 2.2951693314705842e-05),\n",
       " ('Prix', 2.691436439569263e-05),\n",
       " ('BONNE maison dem', 2.7998605902798666e-05),\n",
       " ('rue Royale', 3.5012073249067364e-05),\n",
       " ('vendre', 3.731247834503304e-05),\n",
       " ('d’une BELLE MAISON', 3.858387317178032e-05),\n",
       " ('bon', 4.0267501688803665e-05),\n",
       " ('bonne Maison', 4.08768917776455e-05),\n",
       " ('bon état', 4.153163520766258e-05),\n",
       " ('rue Van Artevelde', 4.2852167944346644e-05),\n",
       " ('Van', 5.183389279002985e-05),\n",
       " ('Grand Prix Belgique', 5.259599965663021e-05),\n",
       " ('Vendre bon marché', 5.3700652149116594e-05),\n",
       " ('vend belle maison', 5.602801593793115e-05),\n",
       " ('ruo', 5.729080488105967e-05),\n",
       " ('Rossel', 5.842687703560334e-05),\n",
       " ('louer maison', 5.987877418815531e-05),\n",
       " ('Agence', 6.155418993807101e-05),\n",
       " ('haut prix bons', 6.405731195133222e-05),\n",
       " ('VENDRE maison ville', 6.608074067587688e-05),\n",
       " ('faire', 7.03782184343594e-05),\n",
       " ('Belgique', 7.35479470195181e-05),\n",
       " ('demande', 7.638148233521063e-05),\n",
       " ('VENDRE maison', 7.64280747850744e-05),\n",
       " ('Longue rue Neuve', 7.842192929082635e-05),\n",
       " ('VEND', 8.114893336466473e-05),\n",
       " ('Grand Prix France', 8.136822398824889e-05),\n",
       " ('DEMANDE Jeune homme', 8.13761380545181e-05),\n",
       " ('jeune fille', 8.216906593106605e-05),\n",
       " ('LOUER', 8.576408488138359e-05),\n",
       " ('haut prix Rue', 8.720398522117671e-05),\n",
       " ('MAISON rue', 8.721467026639394e-05),\n",
       " ('rue Vieux Marché', 8.787050110116234e-05),\n",
       " ('avenue Van Volxem', 8.965416675069526e-05),\n",
       " ('heures', 9.151111073964617e-05),\n",
       " ('place', 9.292620314292398e-05),\n",
       " ('prix bons vieux', 9.365580063908954e-05),\n",
       " ('rue Van rie', 9.458163450380256e-05),\n",
       " ('BELLE MAISON COMMERCE', 9.599109848672874e-05)]"
      ]
     },
     "execution_count": 34,
     "metadata": {},
     "output_type": "execute_result"
    }
   ],
   "source": [
    "# Extraire les mots clés de ce texte\n",
    "keywords = kw_extractor.extract_keywords(text)\n",
    "keywords"
   ]
  },
  {
   "cell_type": "code",
   "execution_count": 31,
   "metadata": {},
   "outputs": [
    {
     "data": {
      "text/plain": [
       "[]"
      ]
     },
     "execution_count": 31,
     "metadata": {},
     "output_type": "execute_result"
    }
   ],
   "source": [
    "# Ne garder que les bigrammes\n",
    "kept = []\n",
    "for kw, score in keywords:\n",
    "    words = kw.split()\n",
    "    if len(words) == 2:\n",
    "        kept.append(kw)\n",
    "kept"
   ]
  },
  {
   "cell_type": "markdown",
   "metadata": {},
   "source": [
    "## Faire la même opération sur tous les documents"
   ]
  },
  {
   "cell_type": "code",
   "execution_count": 28,
   "metadata": {},
   "outputs": [
    {
     "ename": "UnicodeDecodeError",
     "evalue": "'utf-8' codec can't decode byte 0x89 in position 0: invalid start byte",
     "output_type": "error",
     "traceback": [
      "\u001b[0;31m---------------------------------------------------------------------------\u001b[0m",
      "\u001b[0;31mUnicodeDecodeError\u001b[0m                        Traceback (most recent call last)",
      "Cell \u001b[0;32mIn [28], line 2\u001b[0m\n\u001b[1;32m      1\u001b[0m \u001b[39mfor\u001b[39;00m f \u001b[39min\u001b[39;00m \u001b[39msorted\u001b[39m(files)[:\u001b[39m10\u001b[39m]:\n\u001b[0;32m----> 2\u001b[0m     text \u001b[39m=\u001b[39m \u001b[39mopen\u001b[39;49m(os\u001b[39m.\u001b[39;49mpath\u001b[39m.\u001b[39;49mjoin(data_path, f), \u001b[39m'\u001b[39;49m\u001b[39mr\u001b[39;49m\u001b[39m'\u001b[39;49m)\u001b[39m.\u001b[39;49mread()\n\u001b[1;32m      3\u001b[0m     keywords \u001b[39m=\u001b[39m kw_extractor\u001b[39m.\u001b[39mextract_keywords(text)\n\u001b[1;32m      4\u001b[0m     kept \u001b[39m=\u001b[39m []\n",
      "File \u001b[0;32m/Library/Frameworks/Python.framework/Versions/3.10/lib/python3.10/codecs.py:322\u001b[0m, in \u001b[0;36mBufferedIncrementalDecoder.decode\u001b[0;34m(self, input, final)\u001b[0m\n\u001b[1;32m    319\u001b[0m \u001b[39mdef\u001b[39;00m \u001b[39mdecode\u001b[39m(\u001b[39mself\u001b[39m, \u001b[39minput\u001b[39m, final\u001b[39m=\u001b[39m\u001b[39mFalse\u001b[39;00m):\n\u001b[1;32m    320\u001b[0m     \u001b[39m# decode input (taking the buffer into account)\u001b[39;00m\n\u001b[1;32m    321\u001b[0m     data \u001b[39m=\u001b[39m \u001b[39mself\u001b[39m\u001b[39m.\u001b[39mbuffer \u001b[39m+\u001b[39m \u001b[39minput\u001b[39m\n\u001b[0;32m--> 322\u001b[0m     (result, consumed) \u001b[39m=\u001b[39m \u001b[39mself\u001b[39;49m\u001b[39m.\u001b[39;49m_buffer_decode(data, \u001b[39mself\u001b[39;49m\u001b[39m.\u001b[39;49merrors, final)\n\u001b[1;32m    323\u001b[0m     \u001b[39m# keep undecoded input until the next call\u001b[39;00m\n\u001b[1;32m    324\u001b[0m     \u001b[39mself\u001b[39m\u001b[39m.\u001b[39mbuffer \u001b[39m=\u001b[39m data[consumed:]\n",
      "\u001b[0;31mUnicodeDecodeError\u001b[0m: 'utf-8' codec can't decode byte 0x89 in position 0: invalid start byte"
     ]
    }
   ],
   "source": [
    "for f in sorted(files)[:10]:\n",
    "    text = open(os.path.join(data_path, f), 'r').read()\n",
    "    keywords = kw_extractor.extract_keywords(text)\n",
    "    kept = []\n",
    "    for kw, score in keywords:\n",
    "        words = kw.split()\n",
    "        if len(words) == 2:\n",
    "            kept.append(kw)\n",
    "    print(f\"{f} mentions these keywords: {', '.join(kept)}...\")"
   ]
  }
 ],
 "metadata": {
  "kernelspec": {
   "display_name": "Python 3.10.7 ('tac_venv': venv)",
   "language": "python",
   "name": "python3"
  },
  "language_info": {
   "codemirror_mode": {
    "name": "ipython",
    "version": 3
   },
   "file_extension": ".py",
   "mimetype": "text/x-python",
   "name": "python",
   "nbconvert_exporter": "python",
   "pygments_lexer": "ipython3",
   "version": "3.10.7"
  },
  "vscode": {
   "interpreter": {
    "hash": "f245209d64e9435c448327610741208c4b21feecdcb79999f85e9af4642fbd2b"
   }
  }
 },
 "nbformat": 4,
 "nbformat_minor": 4
}
