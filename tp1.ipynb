{
 "cells": [
  {
   "cell_type": "markdown",
   "metadata": {},
   "source": [
    "# Bases de connaissance : interroger Wikidata à l'aide de requêtes SPARQL"
   ]
  },
  {
   "cell_type": "markdown",
   "metadata": {},
   "source": [
    "## Imports"
   ]
  },
  {
   "cell_type": "code",
   "execution_count": 2,
   "metadata": {},
   "outputs": [],
   "source": [
    "from datetime import datetime as dt\n",
    "from SPARQLWrapper import SPARQLWrapper, JSON"
   ]
  },
  {
   "cell_type": "markdown",
   "metadata": {},
   "source": [
    "## Obtenir la liste des politiciens belges"
   ]
  },
  {
   "cell_type": "code",
   "execution_count": 3,
   "metadata": {},
   "outputs": [],
   "source": [
    "# Retrieve results from SPARQL\n",
    "endpoint = \"https://query.wikidata.org/bigdata/namespace/wdq/sparql\"\n",
    "sparql = SPARQLWrapper(endpoint)\n",
    "\n",
    "# P27 = country of citizenship \n",
    "# Q31 = Belgium\n",
    "# P106 = Opccupation\n",
    "# Q82955 = Politician\n",
    "# P569 = date of birth\n",
    "# P570 = date of death\n",
    "statement = \"\"\"\n",
    "SELECT DISTINCT ?article ?articleLabel WHERE {\n",
    "    SERVICE wikibase:label { bd:serviceParam wikibase:language \"fr\" . }\n",
    "{\n",
    "    SELECT DISTINCT ?article WHERE {\n",
    " ?article wdt:P27 wd:Q31.\n",
    "\n",
    "}\n",
    "   }\n",
    "    \n",
    "}\n",
    "ORDER BY ?articleLabel\n",
    "\"\"\"\n",
    "\n",
    "sparql.setQuery(statement)\n",
    "sparql.setReturnFormat(JSON)\n",
    "results = sparql.query().convert()\n",
    "\n",
    "rows = results['results']['bindings']\n",
    "print(f\"\\n{len(rows)} Belgian articles written in french\\n\")\n",
    "print(rows[:10])"
   ]
  },
  {
   "cell_type": "markdown",
   "metadata": {},
   "source": [
    "## Filtrer pour n'afficher que les noms contenant \"Alphonse\""
   ]
  },
  {
   "cell_type": "code",
   "execution_count": 3,
   "metadata": {},
   "outputs": [
    {
     "name": "stdout",
     "output_type": "stream",
     "text": [
      "Displaying the first 10:\n",
      "\n",
      "Adolphe-Alphonse Goupy de Beauvolers (1796-1869)\n",
      "Alphonse Bonenfant (1908-1983)\n",
      "Alphonse Bosch (1886-1944)\n",
      "Alphonse Brenez (1862-1933)\n",
      "Alphonse Briart (1864-1936)\n",
      "Alphonse Carpentier (1869-1934)\n",
      "Alphonse Casse (1846-1923)\n",
      "Alphonse Clignez (1886-1965)\n",
      "Alphonse Collet (1905-1971)\n",
      "Alphonse De Haene (1863-1939)\n"
     ]
    }
   ],
   "source": [
    "name_filter = 'Alphonse'\n",
    "max_results = 10\n",
    "\n",
    "date_format = \"%Y-%m-%dT%H:%M:%SZ\"\n",
    "filtered_rows = [row for row in rows if name_filter in row['personLabel']['value']]\n",
    "print(f\"Displaying the first {max_results}:\\n\")\n",
    "for row in filtered_rows[:max_results]:\n",
    "    try:\n",
    "        birth_date = dt.strptime(row['dateBirth']['value'], date_format)\n",
    "        birth_year = birth_date.year\n",
    "    except ValueError:\n",
    "        birth_year = \"????\"\n",
    "    try:\n",
    "        death_date = dt.strptime(row['dateDeath']['value'], date_format)\n",
    "        death_year = death_date.year\n",
    "    except ValueError: # unknown death date\n",
    "        death_year = \"????\"\n",
    "    except KeyError: # still alive\n",
    "        death_year = \"\"\n",
    "    print(f\"{row['personLabel']['value']} ({birth_year}-{death_year})\")"
   ]
  },
  {
   "cell_type": "markdown",
   "metadata": {},
   "source": [
    "## Pour en savoir plus"
   ]
  },
  {
   "cell_type": "markdown",
   "metadata": {},
   "source": [
    "- [Le projet Wikidata](https://www.wikidata.org/wiki/Wikidata:Main_Page)\n",
    "- [Aide à la construction de requêtes](https://query.wikidata.org/)"
   ]
  }
 ],
 "metadata": {
  "kernelspec": {
   "display_name": "Python 3.10.7 ('tac_venv': venv)",
   "language": "python",
   "name": "python3"
  },
  "language_info": {
   "codemirror_mode": {
    "name": "ipython",
    "version": 3
   },
   "file_extension": ".py",
   "mimetype": "text/x-python",
   "name": "python",
   "nbconvert_exporter": "python",
   "pygments_lexer": "ipython3",
   "version": "3.10.7"
  },
  "vscode": {
   "interpreter": {
    "hash": "f245209d64e9435c448327610741208c4b21feecdcb79999f85e9af4642fbd2b"
   }
  }
 },
 "nbformat": 4,
 "nbformat_minor": 4
}
